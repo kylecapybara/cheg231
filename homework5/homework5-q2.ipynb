{
 "cells": [
  {
   "cell_type": "code",
   "execution_count": 15,
   "metadata": {},
   "outputs": [
    {
     "name": "stdout",
     "output_type": "stream",
     "text": [
      "H1 = 3045.43 J/mol\n",
      "S1 = 6.5594 J/mol K\n"
     ]
    }
   ],
   "source": [
    "import numpy as np\n",
    "\n",
    "temps = np.array([300,350])\n",
    "hvalues = np.array([2977.5, 3104.0])\n",
    "svalues = np.array([6.4451, 6.6579])\n",
    "\n",
    "H1 = np.interp(326.85, temps, hvalues)\n",
    "print(f'H1 = {H1:.2f} J/mol')\n",
    "\n",
    "S1 = np.interp(326.85, temps, svalues)\n",
    "print(f'S1 = {S1:.4f} J/mol K')"
   ]
  },
  {
   "cell_type": "code",
   "execution_count": 16,
   "metadata": {},
   "outputs": [
    {
     "name": "stdout",
     "output_type": "stream",
     "text": [
      "T2 = 293.54\n",
      "S2 = 7.2777\n"
     ]
    }
   ],
   "source": [
    "temps = np.array([250,300])\n",
    "six_bar = np.array([2957.2, 3061.6])\n",
    "eight_bar = np.array([2950.0, 3056.5])\n",
    "\n",
    "six_bar_entropy = np.array([7.1816, 7.3724])\n",
    "eight_bar_entropy = np.array([7.0384, 7.2328])\n",
    "\n",
    "seven_bar = (six_bar + eight_bar) / 2\n",
    "seven_bar_entropy = (six_bar_entropy + eight_bar_entropy) / 2\n",
    "\n",
    "T2 = np.interp(H, seven_bar, temps)\n",
    "print(f'T2 = {T2:.2f}')\n",
    "\n",
    "S2 = np.interp(H, seven_bar, seven_bar_entropy)\n",
    "print(f'S2 = {S2:.4f}')"
   ]
  },
  {
   "cell_type": "code",
   "execution_count": 19,
   "metadata": {},
   "outputs": [
    {
     "name": "stdout",
     "output_type": "stream",
     "text": [
      "delta_s = 0.7184 J/Kg K\n"
     ]
    }
   ],
   "source": [
    "delta_s = S2 - S1\n",
    "print(f'delta_s = {delta_s:.4f} J/Kg K')"
   ]
  },
  {
   "cell_type": "code",
   "execution_count": null,
   "metadata": {},
   "outputs": [],
   "source": []
  }
 ],
 "metadata": {
  "kernelspec": {
   "display_name": "base",
   "language": "python",
   "name": "python3"
  },
  "language_info": {
   "codemirror_mode": {
    "name": "ipython",
    "version": 3
   },
   "file_extension": ".py",
   "mimetype": "text/x-python",
   "name": "python",
   "nbconvert_exporter": "python",
   "pygments_lexer": "ipython3",
   "version": "3.11.5"
  }
 },
 "nbformat": 4,
 "nbformat_minor": 2
}
