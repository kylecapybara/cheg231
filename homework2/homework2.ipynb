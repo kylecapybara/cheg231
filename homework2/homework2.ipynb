{
 "cells": [
  {
   "cell_type": "markdown",
   "metadata": {},
   "source": [
    "# homework 2 interpolation sls 3.8\n",
    "author: k.wodehouse"
   ]
  },
  {
   "cell_type": "code",
   "execution_count": 6,
   "metadata": {},
   "outputs": [
    {
     "data": {
      "text/plain": [
       "3209.38"
      ]
     },
     "execution_count": 6,
     "metadata": {},
     "output_type": "execute_result"
    }
   ],
   "source": [
    "import numpy as np\n",
    "from scipy.optimize import fsolve\n",
    "import pandas as pd\n",
    "\n",
    "temps = np.array([350,400])\n",
    "h_hat = np.array([3167.7,3271.9])\n",
    "\n",
    "H = np.interp(370, temps, h_hat)\n",
    "H"
   ]
  },
  {
   "cell_type": "code",
   "execution_count": 7,
   "metadata": {},
   "outputs": [
    {
     "data": {
      "text/html": [
       "<div>\n",
       "<style scoped>\n",
       "    .dataframe tbody tr th:only-of-type {\n",
       "        vertical-align: middle;\n",
       "    }\n",
       "\n",
       "    .dataframe tbody tr th {\n",
       "        vertical-align: top;\n",
       "    }\n",
       "\n",
       "    .dataframe thead th {\n",
       "        text-align: right;\n",
       "    }\n",
       "</style>\n",
       "<table border=\"1\" class=\"dataframe\">\n",
       "  <thead>\n",
       "    <tr style=\"text-align: right;\">\n",
       "      <th></th>\n",
       "      <th>V</th>\n",
       "      <th>U</th>\n",
       "      <th>H</th>\n",
       "      <th>S</th>\n",
       "    </tr>\n",
       "    <tr>\n",
       "      <th>T</th>\n",
       "      <th></th>\n",
       "      <th></th>\n",
       "      <th></th>\n",
       "      <th></th>\n",
       "    </tr>\n",
       "  </thead>\n",
       "  <tbody>\n",
       "    <tr>\n",
       "      <th>200</th>\n",
       "      <td>0.4249</td>\n",
       "      <td>2642.9</td>\n",
       "      <td>2855.4</td>\n",
       "      <td>7.0592</td>\n",
       "    </tr>\n",
       "    <tr>\n",
       "      <th>250</th>\n",
       "      <td>0.4744</td>\n",
       "      <td>2723.5</td>\n",
       "      <td>2960.7</td>\n",
       "      <td>7.2709</td>\n",
       "    </tr>\n",
       "    <tr>\n",
       "      <th>300</th>\n",
       "      <td>0.5226</td>\n",
       "      <td>2802.9</td>\n",
       "      <td>3064.2</td>\n",
       "      <td>7.4599</td>\n",
       "    </tr>\n",
       "    <tr>\n",
       "      <th>350</th>\n",
       "      <td>0.5701</td>\n",
       "      <td>2882.6</td>\n",
       "      <td>3167.7</td>\n",
       "      <td>7.6329</td>\n",
       "    </tr>\n",
       "    <tr>\n",
       "      <th>400</th>\n",
       "      <td>0.6173</td>\n",
       "      <td>2963.2</td>\n",
       "      <td>3271.9</td>\n",
       "      <td>7.7938</td>\n",
       "    </tr>\n",
       "    <tr>\n",
       "      <th>500</th>\n",
       "      <td>0.7109</td>\n",
       "      <td>3128.4</td>\n",
       "      <td>3483.9</td>\n",
       "      <td>8.0873</td>\n",
       "    </tr>\n",
       "    <tr>\n",
       "      <th>600</th>\n",
       "      <td>0.8041</td>\n",
       "      <td>3299.6</td>\n",
       "      <td>3701.7</td>\n",
       "      <td>8.3522</td>\n",
       "    </tr>\n",
       "    <tr>\n",
       "      <th>700</th>\n",
       "      <td>0.8969</td>\n",
       "      <td>3477.5</td>\n",
       "      <td>3925.9</td>\n",
       "      <td>8.5952</td>\n",
       "    </tr>\n",
       "    <tr>\n",
       "      <th>800</th>\n",
       "      <td>0.9896</td>\n",
       "      <td>3662.1</td>\n",
       "      <td>4156.9</td>\n",
       "      <td>8.8211</td>\n",
       "    </tr>\n",
       "    <tr>\n",
       "      <th>900</th>\n",
       "      <td>1.0822</td>\n",
       "      <td>3853.6</td>\n",
       "      <td>4394.7</td>\n",
       "      <td>9.0329</td>\n",
       "    </tr>\n",
       "    <tr>\n",
       "      <th>1000</th>\n",
       "      <td>1.1747</td>\n",
       "      <td>4051.8</td>\n",
       "      <td>4639.1</td>\n",
       "      <td>9.2328</td>\n",
       "    </tr>\n",
       "    <tr>\n",
       "      <th>1100</th>\n",
       "      <td>1.2672</td>\n",
       "      <td>4256.3</td>\n",
       "      <td>4889.9</td>\n",
       "      <td>9.4224</td>\n",
       "    </tr>\n",
       "    <tr>\n",
       "      <th>1200</th>\n",
       "      <td>1.3596</td>\n",
       "      <td>4466.8</td>\n",
       "      <td>5146.6</td>\n",
       "      <td>9.6029</td>\n",
       "    </tr>\n",
       "    <tr>\n",
       "      <th>1300</th>\n",
       "      <td>1.4521</td>\n",
       "      <td>4682.5</td>\n",
       "      <td>5408.6</td>\n",
       "      <td>9.7749</td>\n",
       "    </tr>\n",
       "  </tbody>\n",
       "</table>\n",
       "</div>"
      ],
      "text/plain": [
       "           V       U       H       S\n",
       "T                                   \n",
       "200   0.4249  2642.9  2855.4  7.0592\n",
       "250   0.4744  2723.5  2960.7  7.2709\n",
       "300   0.5226  2802.9  3064.2  7.4599\n",
       "350   0.5701  2882.6  3167.7  7.6329\n",
       "400   0.6173  2963.2  3271.9  7.7938\n",
       "500   0.7109  3128.4  3483.9  8.0873\n",
       "600   0.8041  3299.6  3701.7  8.3522\n",
       "700   0.8969  3477.5  3925.9  8.5952\n",
       "800   0.9896  3662.1  4156.9  8.8211\n",
       "900   1.0822  3853.6  4394.7  9.0329\n",
       "1000  1.1747  4051.8  4639.1  9.2328\n",
       "1100  1.2672  4256.3  4889.9  9.4224\n",
       "1200  1.3596  4466.8  5146.6  9.6029\n",
       "1300  1.4521  4682.5  5408.6  9.7749"
      ]
     },
     "execution_count": 7,
     "metadata": {},
     "output_type": "execute_result"
    }
   ],
   "source": [
    "data = {\n",
    "    'T': [200, 250, 300, 350, 400, 500, 600, 700, 800, 900, 1000, 1100, 1200, 1300],\n",
    "    'V': [0.4249, 0.4744, 0.5226, 0.5701, 0.6173, 0.7109, 0.8041, 0.8969, 0.9896, 1.0822, 1.1747, 1.2672, 1.3596, 1.4521],\n",
    "    'U': [2642.9, 2723.5, 2802.9, 2882.6, 2963.2, 3128.4, 3299.6, 3477.5, 3662.1, 3853.6, 4051.8, 4256.3, 4466.8, 4682.5],\n",
    "    'H': [2855.4, 2960.7, 3064.2, 3167.7, 3271.9, 3483.9, 3701.7, 3925.9, 4156.9, 4394.7, 4639.1, 4889.9, 5146.6, 5408.6],\n",
    "    'S': [7.0592, 7.2709, 7.4599, 7.6329, 7.7938, 8.0873, 8.3522, 8.5952, 8.8211, 9.0329, 9.2328, 9.4224, 9.6029, 9.7749]\n",
    "}\n",
    "\n",
    "df = pd.DataFrame(data).set_index('T')\n",
    "df"
   ]
  },
  {
   "cell_type": "code",
   "execution_count": 8,
   "metadata": {},
   "outputs": [
    {
     "name": "stdout",
     "output_type": "stream",
     "text": [
      "calc temp: 423.753\n",
      "calc V_hat: 0.63953\n",
      "calc m: 1.564\n"
     ]
    }
   ],
   "source": [
    "def sls38(T):\n",
    "    U = np.interp(T, df.index, df['U'])\n",
    "    V = np.interp(T, df.index, df['V'])\n",
    "\n",
    "    return ((3209.38 - U) / V) + (0.516422*2582.8 - 0.516422*3209.38)\n",
    "\n",
    "T = fsolve(sls38, 200)[0]\n",
    "print(f'calc temp: {T:.3f}')\n",
    "\n",
    "V = np.interp(T, df.index, df['V'])\n",
    "print(f'calc V_hat: {V:.5f}')\n",
    "\n",
    "print(f'calc m: {1/V:.3f}')"
   ]
  },
  {
   "cell_type": "code",
   "execution_count": 12,
   "metadata": {},
   "outputs": [
    {
     "data": {
      "text/plain": [
       "<matplotlib.legend.Legend at 0x16ac06b50>"
      ]
     },
     "execution_count": 12,
     "metadata": {},
     "output_type": "execute_result"
    },
    {
     "data": {
      "image/png": "[encoded data removed]",
      "text/plain": [
       "<Figure size 640x480 with 1 Axes>"
      ]
     },
     "metadata": {},
     "output_type": "display_data"
    }
   ],
   "source": [
    "import matplotlib.pyplot as plt\n",
    "\n",
    "def cpN2(T):\n",
    "    return 28.883 - 0.157e-2*T + 0.808e-5*T**2 - 2.873e-9*T**3\n",
    "\n",
    "temps = np.arange(273,1800)\n",
    "cpsN2 = cpN2(temps)\n",
    "\n",
    "plt.plot(temps, cpsN2, label='N2')\n",
    "plt.xlim(273,1800)\n",
    "\n",
    "plt.xlabel('Temperature (K)')\n",
    "plt.ylabel('Cp (J/mol-K)')\n",
    "plt.title('Temperature dependence of Cp for N2')\n",
    "plt.legend()"
   ]
  },
  {
   "cell_type": "code",
   "execution_count": null,
   "metadata": {},
   "outputs": [],
   "source": []
  }
 ],
 "metadata": {
  "kernelspec": {
   "display_name": "base",
   "language": "python",
   "name": "python3"
  },
  "language_info": {
   "codemirror_mode": {
    "name": "ipython",
    "version": 3
   },
   "file_extension": ".py",
   "mimetype": "text/x-python",
   "name": "python",
   "nbconvert_exporter": "python",
   "pygments_lexer": "ipython3",
   "version": "3.11.5"
  }
 },
 "nbformat": 4,
 "nbformat_minor": 2
}
