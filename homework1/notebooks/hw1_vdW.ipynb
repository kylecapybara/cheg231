{
 "cells": [
  {
   "cell_type": "markdown",
   "metadata": {},
   "source": [
    "# homework 1; van der Waals\n",
    "author: k.wodehouse\n",
    "\n",
    "purpose: calculate molar volume of a gas using the van der Waals equation\n",
    "\n",
    "# 2 a. i. \n",
    "\n",
    "\n",
    "the program code is finding the zeros of the $f(V)$ equation to find the volume given all the other parameters. It's solving neumerically because the equation is not easily solvable by hand and possibly impossible to isolate the volume with algebra."
   ]
  },
  {
   "cell_type": "markdown",
   "metadata": {},
   "source": [
    "$$\n",
    "    \\left( P + \\frac{a}{V^2} \\right) \\left( V - b \\right) = R \\cdot T\n",
    "$$\n",
    "\n",
    "$$\n",
    "    f(V) = R \\cdot T - \\left( P + \\frac{a}{V^2} \\right) \\left( V - b \\right)\n",
    "$$"
   ]
  },
  {
   "cell_type": "markdown",
   "metadata": {},
   "source": [
    "code from lobo's video:"
   ]
  },
  {
   "cell_type": "code",
   "execution_count": 10,
   "metadata": {},
   "outputs": [
    {
     "name": "stdout",
     "output_type": "stream",
     "text": [
      "van der Waals volume: 0.00488 mol\n"
     ]
    }
   ],
   "source": [
    "import numpy as np\n",
    "import pandas as pd\n",
    "import matplotlib.pyplot as plt\n",
    "import scipy.optimize as opt\n",
    "\n",
    "# constants for van der waals equation\n",
    "\n",
    "a = 0.3634 # Pa m^6/mol^2\n",
    "b = 4.236e-5 # m^3/mol\n",
    "\n",
    "# other params\n",
    "\n",
    "R = 8.314 # J/(mol K) ; ideal gas constant\n",
    "P = 5e5 # Pa ; pressure\n",
    "T = 300 # K ; temperature\n",
    "\n",
    "# van der waals equation\n",
    "\n",
    "def vdW(V):\n",
    "    return (R * T) - ((P + a / V**2) * (V - b))\n",
    "\n",
    "volume = opt.fsolve(vdW, R*T/P)[0]\n",
    "\n",
    "print(f'van der Waals volume: {volume:.5f} mol') # m^3/mol"
   ]
  },
  {
   "cell_type": "markdown",
   "metadata": {},
   "source": [
    "Comparing van der Waals with the ideal gas"
   ]
  },
  {
   "cell_type": "code",
   "execution_count": 11,
   "metadata": {},
   "outputs": [
    {
     "name": "stdout",
     "output_type": "stream",
     "text": [
      "ideal gas volume: 0.004988 mol\n",
      "percent difference: 2.15%\n"
     ]
    }
   ],
   "source": [
    "ideal = R * T / P\n",
    "print(f'ideal gas volume: {ideal:.6f} mol') # m^3/mol\n",
    "\n",
    "percent_diff = 100 * (ideal - volume) / volume\n",
    "print(f'percent difference: {percent_diff:.2f}%')"
   ]
  },
  {
   "cell_type": "markdown",
   "metadata": {},
   "source": [
    "# 2. a. ii.\n",
    "\n",
    "first i'll setup another van der Waals function that also takes Temperature as an input"
   ]
  },
  {
   "cell_type": "code",
   "execution_count": 12,
   "metadata": {},
   "outputs": [
    {
     "data": {
      "text/html": [
       "<div>\n",
       "<style scoped>\n",
       "    .dataframe tbody tr th:only-of-type {\n",
       "        vertical-align: middle;\n",
       "    }\n",
       "\n",
       "    .dataframe tbody tr th {\n",
       "        vertical-align: top;\n",
       "    }\n",
       "\n",
       "    .dataframe thead th {\n",
       "        text-align: right;\n",
       "    }\n",
       "</style>\n",
       "<table border=\"1\" class=\"dataframe\">\n",
       "  <thead>\n",
       "    <tr style=\"text-align: right;\">\n",
       "      <th></th>\n",
       "      <th>V (m^3/mol)</th>\n",
       "      <th>Ideal Gas</th>\n",
       "      <th>Difference (m^3/mol)</th>\n",
       "    </tr>\n",
       "    <tr>\n",
       "      <th>T (K)</th>\n",
       "      <th></th>\n",
       "      <th></th>\n",
       "      <th></th>\n",
       "    </tr>\n",
       "  </thead>\n",
       "  <tbody>\n",
       "    <tr>\n",
       "      <th>150</th>\n",
       "      <td>0.002215</td>\n",
       "      <td>0.002494</td>\n",
       "      <td>0.000280</td>\n",
       "    </tr>\n",
       "    <tr>\n",
       "      <th>200</th>\n",
       "      <td>0.003140</td>\n",
       "      <td>0.003326</td>\n",
       "      <td>0.000186</td>\n",
       "    </tr>\n",
       "    <tr>\n",
       "      <th>250</th>\n",
       "      <td>0.004020</td>\n",
       "      <td>0.004157</td>\n",
       "      <td>0.000137</td>\n",
       "    </tr>\n",
       "    <tr>\n",
       "      <th>300</th>\n",
       "      <td>0.004883</td>\n",
       "      <td>0.004988</td>\n",
       "      <td>0.000105</td>\n",
       "    </tr>\n",
       "    <tr>\n",
       "      <th>350</th>\n",
       "      <td>0.005736</td>\n",
       "      <td>0.005820</td>\n",
       "      <td>0.000083</td>\n",
       "    </tr>\n",
       "  </tbody>\n",
       "</table>\n",
       "</div>"
      ],
      "text/plain": [
       "       V (m^3/mol)  Ideal Gas  Difference (m^3/mol)\n",
       "T (K)                                              \n",
       "150       0.002215   0.002494              0.000280\n",
       "200       0.003140   0.003326              0.000186\n",
       "250       0.004020   0.004157              0.000137\n",
       "300       0.004883   0.004988              0.000105\n",
       "350       0.005736   0.005820              0.000083"
      ]
     },
     "execution_count": 12,
     "metadata": {},
     "output_type": "execute_result"
    }
   ],
   "source": [
    "def vdWT(V, T):\n",
    "    return (R * T) - ((P + a / V**2) * (V - b))\n",
    "\n",
    "temperatures = np.array([150,200,250,300,350])\n",
    "vdw_volumes = [opt.fsolve(vdWT, R*T/P, args=(T))[0] for T in temperatures]\n",
    "ideals = R * temperatures / P\n",
    "diff = abs(ideals - vdw_volumes)\n",
    "\n",
    "df = pd.DataFrame({'T (K)': temperatures, \n",
    "                   'V (m^3/mol)': vdw_volumes, \n",
    "                   'Ideal Gas': ideals, \n",
    "                   'Difference (m^3/mol)': diff})\n",
    "df.set_index('T (K)', inplace=True)\n",
    "df"
   ]
  },
  {
   "cell_type": "markdown",
   "metadata": {},
   "source": [
    "results for the 150K are somewhat different (~1%) though the rest are quite similar. then as temperature rises the ideal gas equation gets much more similar to the van der Waals equation. i.e. as temperature increases the difference decreases."
   ]
  }
 ],
 "metadata": {
  "kernelspec": {
   "display_name": "base",
   "language": "python",
   "name": "python3"
  },
  "language_info": {
   "codemirror_mode": {
    "name": "ipython",
    "version": 3
   },
   "file_extension": ".py",
   "mimetype": "text/x-python",
   "name": "python",
   "nbconvert_exporter": "python",
   "pygments_lexer": "ipython3",
   "version": "3.11.5"
  }
 },
 "nbformat": 4,
 "nbformat_minor": 2
}
