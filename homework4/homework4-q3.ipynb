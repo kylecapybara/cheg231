{
 "cells": [
  {
   "cell_type": "markdown",
   "metadata": {},
   "source": [
    "# cheg231 homework 4 question 3 calculations\n",
    "\n",
    "author: k.wodehouse"
   ]
  },
  {
   "cell_type": "code",
   "execution_count": 16,
   "metadata": {},
   "outputs": [
    {
     "name": "stdout",
     "output_type": "stream",
     "text": [
      "thermo package specific volume = 0.02044055 m³/mol\n",
      "ideal gas volume = 0.02044064 m³/mol\n"
     ]
    }
   ],
   "source": [
    "from thermo.chemical import Chemical\n",
    "import numpy as np\n",
    "import sympy as sp\n",
    "\n",
    "methane = Chemical('methane', T=283, P=115114)\n",
    "vunderbar = methane.Vm  # m³/ mol\n",
    "print(f'thermo package specific volume = {vunderbar:.8f} m³/mol')\n",
    "\n",
    "Vn = 8.3145 * 283 / 115114\n",
    "print(f'ideal gas volume = {Vn:.8f} m³/mol')"
   ]
  },
  {
   "cell_type": "markdown",
   "metadata": {},
   "source": [
    "Ideal gas volume seems pretty good to me–I'll use that for my calculations. Evaluating the integral:"
   ]
  },
  {
   "cell_type": "code",
   "execution_count": 17,
   "metadata": {},
   "outputs": [
    {
     "name": "stdout",
     "output_type": "stream",
     "text": [
      "delta h = 13805.818 J/mol\n"
     ]
    }
   ],
   "source": [
    "def methane_cp(T):\n",
    "    return 19.875 + (5.021e-2 * T) + (1.268e-5 * T**2) + (-11.004e-9 * T**3)\n",
    "\n",
    "Ti = 283\n",
    "Tf = 600\n",
    "temperatures = np.arange(Ti, Tf, 0.0001)\n",
    "\n",
    "T = sp.symbols('T')\n",
    "cp = methane_cp(T)\n",
    "deltaH = sp.integrate(cp, (T, Ti, Tf))\n",
    "\n",
    "print(f'delta h = {deltaH:.3f} J/mol')\n"
   ]
  },
  {
   "cell_type": "markdown",
   "metadata": {},
   "source": [
    "converting 100 CFM to mol/sec with the ideal gas calc. volume"
   ]
  },
  {
   "cell_type": "code",
   "execution_count": 18,
   "metadata": {},
   "outputs": [
    {
     "name": "stdout",
     "output_type": "stream",
     "text": [
      "ndot = 2.309 mol/sec\n"
     ]
    }
   ],
   "source": [
    "ndot = 100 * (1/35.3147) * (1/Vn) / 60\n",
    "print(f'ndot = {ndot:.3f} mol/sec')"
   ]
  },
  {
   "cell_type": "markdown",
   "metadata": {},
   "source": [
    "multiplying and getting into better units"
   ]
  },
  {
   "cell_type": "code",
   "execution_count": 19,
   "metadata": {},
   "outputs": [
    {
     "name": "stdout",
     "output_type": "stream",
     "text": [
      "heat flow: 31.88 kJ/s\n",
      "heat flow (with sigfigs??): 30 kJ/h\n"
     ]
    }
   ],
   "source": [
    "qdot = ndot * deltaH / 1000\n",
    "# round to 1 sigfig\n",
    "qd = round(qdot, -1)\n",
    "print(f'heat flow: {qdot:.2f} kJ/s')\n",
    "print(f'heat flow (with sigfigs??): {qd:.0f} kJ/h')"
   ]
  }
 ],
 "metadata": {
  "kernelspec": {
   "display_name": "base",
   "language": "python",
   "name": "python3"
  },
  "language_info": {
   "codemirror_mode": {
    "name": "ipython",
    "version": 3
   },
   "file_extension": ".py",
   "mimetype": "text/x-python",
   "name": "python",
   "nbconvert_exporter": "python",
   "pygments_lexer": "ipython3",
   "version": "3.11.5"
  }
 },
 "nbformat": 4,
 "nbformat_minor": 2
}
