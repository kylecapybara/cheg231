{
 "cells": [
  {
   "cell_type": "markdown",
   "metadata": {},
   "source": [
    "# cheg231 homework 4 question 2\n",
    "author: k.wodehouse\n",
    "\n",
    "date: 9/23/2024"
   ]
  },
  {
   "cell_type": "markdown",
   "metadata": {},
   "source": [
    "### Calculate the heat energy required to heat one mole of nitrogen from 298 to 600 K at 1 bar\n",
    "\n",
    "Energy balance gave us\n",
    "\n",
    "$$\n",
    "    Q = N(\\underbar{H}_{f} - \\underbar{H}_{i})\n",
    "$$\n",
    "\n",
    "another way to represent $\\underbar{H}_{f} - \\underbar{H}_{i}$ is\n",
    "\n",
    "$$\n",
    "    = \\int_{T_i}^{T_f} \\frac{d\\underbar{H}}{dT}\n",
    "$$\n",
    "\n",
    "We know that \n",
    "\n",
    "$$\n",
    "    C_p = \\frac{d\\underbar{H}}{dT}\n",
    "$$\n",
    "\n",
    "\n",
    "So the heat required to heat a mole of nitrogen from 298 to 600 is \n",
    "\n",
    "$$\n",
    "    Q = N \\int_{298}^{600} C_p(T) \\ dT\n",
    "$$\n",
    "\n",
    "and the $C_p(T)$ comes from the stanley sandler appendix data. also N = 1"
   ]
  },
  {
   "cell_type": "code",
   "execution_count": 15,
   "metadata": {},
   "outputs": [
    {
     "name": "stdout",
     "output_type": "stream",
     "text": [
      "calculated heat (integrated): 8932.90 J\n"
     ]
    }
   ],
   "source": [
    "import numpy as np\n",
    "from scipy.integrate import simpson\n",
    "\n",
    "def nitrogen_cp(T):\n",
    "    return 28.883 - (0.157e-2 * T) + (0.808e-5 * T**2) - (2.871e-9 * T**3)\n",
    "\n",
    "temperatures = np.linspace(298, 600, 300)\n",
    "\n",
    "heat_integrated = simpson(nitrogen_cp(temperatures), temperatures)\n",
    "print(f'calculated heat (integrated): {heat_integrated:.2f} J')"
   ]
  },
  {
   "cell_type": "markdown",
   "metadata": {},
   "source": [
    "this can also quick be compared to the heat if $C_p$ is assumed constant and not a function of temperature\n",
    "\n",
    "$$\n",
    "    N C_p \\int_{298}^{600} dT = N C_p (T_f - T_i)\n",
    "$$\n",
    "\n",
    "or if nitrogen has the "
   ]
  },
  {
   "cell_type": "code",
   "execution_count": 16,
   "metadata": {},
   "outputs": [
    {
     "name": "stdout",
     "output_type": "stream",
     "text": [
      "calculated heat (const. Cp): 8775.12 J\n",
      "error: 1.80%\n"
     ]
    }
   ],
   "source": [
    "cp_roomtemp = nitrogen_cp(298)\n",
    "heat = 1 * cp_roomtemp * (600-298)\n",
    "\n",
    "print(f'calculated heat (const. Cp): {heat:.2f} J')\n",
    "print(f'error: {abs(heat - heat_integrated) / heat * 100:.2f}%')"
   ]
  },
  {
   "cell_type": "markdown",
   "metadata": {},
   "source": [
    "### Next calculate the heat energy required to heat one mole of ethane from 298 to 600 K at 1 bar\n",
    "\n",
    "similar buildup as the last part and also calculating if the $C_p$ is assumed constant"
   ]
  },
  {
   "cell_type": "code",
   "execution_count": 17,
   "metadata": {},
   "outputs": [
    {
     "name": "stdout",
     "output_type": "stream",
     "text": [
      "calculated heat (integrated): 21656.54 J\n",
      "cp room temp: 52.82\n",
      "calculated heat (const cp = cp(298K)): 15952.34 J\n",
      "calculated heat (ideal gas): 10043.49 J\n",
      "\n",
      "-----------------------------\n",
      "\n",
      "error (const cp = cp @ room temp): 26.34%\n",
      "error (ideal gas): 53.62%\n"
     ]
    }
   ],
   "source": [
    "def ethane_cp(T):\n",
    "    return 6.895 + (17.255e-2 * T) - (6.402e-5 * T**2) + (7.280e-9 * T**3)\n",
    "\n",
    "temperatures = np.linspace(298, 600, 100)\n",
    "\n",
    "heat_integrated = simpson(ethane_cp(temperatures), temperatures)\n",
    "print(f'calculated heat (integrated): {heat_integrated:.2f} J')\n",
    "\n",
    "cp_roomtemp = ethane_cp(298)\n",
    "print(f'cp room temp: {cp_roomtemp:.2f}')\n",
    "heat1 = 1 * cp_roomtemp * (600-298)\n",
    "print(f'calculated heat (const cp = cp(298K)): {heat1:.2f} J')\n",
    "\n",
    "# ethane has 3 + 3 = 6 degrees of freedom, so ideal gas C_v is (6/2) * R\n",
    "# so the ideal gas C_p will be (6/2) * R + R = 4*R\n",
    "heat2 = (4 * 8.31415) * (600-298)\n",
    "print(f'calculated heat (ideal gas): {heat2:.2f} J')\n",
    "\n",
    "print('\\n-----------------------------\\n')\n",
    "\n",
    "print(f'error (const cp = cp @ room temp): {abs(heat1 - heat_integrated) / heat_integrated * 100:.2f}%')\n",
    "print(f'error (ideal gas): {abs(heat2 - heat_integrated) / heat_integrated * 100:.2f}%')"
   ]
  },
  {
   "cell_type": "markdown",
   "metadata": {},
   "source": [
    "### Should you assume a constant value of the heat capacity for ethane?\n",
    "\n",
    "No, the $C_p$ cannot be assumed constant since the difference in calculated heat is ~26% if assumed constant and over 50% error if assumed to be the predicted ideal gas $C_p$! this is because the temperature dependence of ethane is much greater than for nitrogen on this temperature range. Looking back at the graph made for question 1 the nitrogen looks super flat, but the ethane increased quite a lot--almost 3x (started around 50 and ended close to 150)\n"
   ]
  },
  {
   "cell_type": "code",
   "execution_count": 21,
   "metadata": {},
   "outputs": [
    {
     "data": {
      "text/plain": [
       "([0.688488564770099], 0.311511435229901)"
      ]
     },
     "execution_count": 21,
     "metadata": {},
     "output_type": "execute_result"
    }
   ],
   "source": [
    "import sympy as sp\n",
    "x = sp.symbols('x')\n",
    "H = (419.04)*(1-x) + 2676.1*x\n",
    "\n",
    "#find value of x if H = 1973\n",
    "x = sp.solve(H-1973, x)\n",
    "x, (1-x[0])"
   ]
  },
  {
   "cell_type": "code",
   "execution_count": null,
   "metadata": {},
   "outputs": [],
   "source": []
  }
 ],
 "metadata": {
  "kernelspec": {
   "display_name": "base",
   "language": "python",
   "name": "python3"
  },
  "language_info": {
   "codemirror_mode": {
    "name": "ipython",
    "version": 3
   },
   "file_extension": ".py",
   "mimetype": "text/x-python",
   "name": "python",
   "nbconvert_exporter": "python",
   "pygments_lexer": "ipython3",
   "version": "3.11.5"
  }
 },
 "nbformat": 4,
 "nbformat_minor": 2
}
